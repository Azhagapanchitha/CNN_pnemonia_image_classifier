{
 "cells": [
  {
   "cell_type": "code",
   "execution_count": 40,
   "metadata": {},
   "outputs": [],
   "source": [
    "#importing the required library\n",
    "import keras\n",
    "import numpy as np\n",
    "import matplotlib.pyplot as plt\n",
    "from keras.preprocessing.image import ImageDataGenerator, load_img\n",
    "from keras.models import Sequential, load_model\n",
    "from keras.layers import Conv2D, MaxPool2D, Flatten, Dense, Activation, Dropout\n",
    "from keras.activations import relu, softmax\n",
    "from keras.losses import categorical_crossentropy\n",
    "from keras.optimizers import sgd, adam\n",
    "from keras.callbacks import ModelCheckpoint\n",
    "from keras.preprocessing import image\n",
    "import matplotlib.image as mpimg\n",
    "import os"
   ]
  },
  {
   "cell_type": "code",
   "execution_count": 12,
   "metadata": {},
   "outputs": [],
   "source": [
    "#dimensions of our images\n",
    "train_datagen = ImageDataGenerator(rotation_range=40, width_shift_range=0.2, height_shift_range=0.2, horizontal_flip=True, zoom_range=0.2, rescale = 1./255)\n",
    "test_datagen = ImageDataGenerator(rescale = 1./255)"
   ]
  },
  {
   "cell_type": "code",
   "execution_count": 45,
   "metadata": {},
   "outputs": [],
   "source": [
    "#creating the model\n",
    "model = Sequential()\n",
    "#single chunk of convulution\n",
    "model.add(Conv2D(32, (3,3), input_shape=(224,224,3), activation=\"relu\"))\n",
    "model.add(MaxPool2D(pool_size=(2,2)))\n",
    "\n",
    "model.add(Conv2D(32, (3,3), activation=\"relu\"))\n",
    "model.add(MaxPool2D(pool_size=(2,2)))\n",
    "\n",
    "model.add(Conv2D(64, (3,3), activation=\"relu\"))\n",
    "model.add(MaxPool2D(pool_size=(2,2)))\n",
    "\n",
    "model.add(Flatten())\n",
    "model.add(Dense(1024, activation=\"relu\"))\n",
    "model.add(Dense(512, activation=\"relu\"))\n",
    "model.add(Dense(2, activation='softmax'))\n",
    "model.compile(loss=\"categorical_crossentropy\", optimizer='adam', metrics=[\"acc\"])"
   ]
  },
  {
   "cell_type": "code",
   "execution_count": 82,
   "metadata": {},
   "outputs": [
    {
     "name": "stdout",
     "output_type": "stream",
     "text": [
      "Model: \"sequential_10\"\n",
      "_________________________________________________________________\n",
      "Layer (type)                 Output Shape              Param #   \n",
      "=================================================================\n",
      "conv2d_28 (Conv2D)           (None, 222, 222, 32)      896       \n",
      "_________________________________________________________________\n",
      "max_pooling2d_28 (MaxPooling (None, 111, 111, 32)      0         \n",
      "_________________________________________________________________\n",
      "conv2d_29 (Conv2D)           (None, 109, 109, 32)      9248      \n",
      "_________________________________________________________________\n",
      "max_pooling2d_29 (MaxPooling (None, 54, 54, 32)        0         \n",
      "_________________________________________________________________\n",
      "conv2d_30 (Conv2D)           (None, 52, 52, 64)        18496     \n",
      "_________________________________________________________________\n",
      "max_pooling2d_30 (MaxPooling (None, 26, 26, 64)        0         \n",
      "_________________________________________________________________\n",
      "flatten_10 (Flatten)         (None, 43264)             0         \n",
      "_________________________________________________________________\n",
      "dense_27 (Dense)             (None, 1024)              44303360  \n",
      "_________________________________________________________________\n",
      "dense_28 (Dense)             (None, 512)               524800    \n",
      "_________________________________________________________________\n",
      "dense_29 (Dense)             (None, 2)                 1026      \n",
      "=================================================================\n",
      "Total params: 44,857,826\n",
      "Trainable params: 44,857,826\n",
      "Non-trainable params: 0\n",
      "_________________________________________________________________\n"
     ]
    }
   ],
   "source": [
    "model.summary()"
   ]
  },
  {
   "cell_type": "code",
   "execution_count": 49,
   "metadata": {},
   "outputs": [
    {
     "name": "stdout",
     "output_type": "stream",
     "text": [
      "Found 5216 images belonging to 2 classes.\n",
      "Found 624 images belonging to 2 classes.\n",
      "{'NORMAL': 0, 'PNEUMONIA': 1}\n"
     ]
    }
   ],
   "source": [
    "#importing train data\n",
    "train_gen = train_datagen.flow_from_directory(\"../Python/chest_xray/train\", target_size=(224,224), batch_size=32)\n",
    "test_gen = test_datagen.flow_from_directory(\"../Python/chest_xray/test\", target_size=(224,224), batch_size=32)\n",
    "print(train_gen.class_indices)"
   ]
  },
  {
   "cell_type": "code",
   "execution_count": 50,
   "metadata": {},
   "outputs": [],
   "source": [
    "#Saving the best model\n",
    "checkpoint = ModelCheckpoint('../Python/checkpoint-{epoch:03d}.h5', monitor='loss', verbose=0, save_best_only=True, mode='auto')"
   ]
  },
  {
   "cell_type": "code",
   "execution_count": 51,
   "metadata": {},
   "outputs": [
    {
     "name": "stdout",
     "output_type": "stream",
     "text": [
      "Epoch 1/3\n",
      "163/163 [==============================] - 343s 2s/step - loss: 0.3224 - acc: 0.8497 - val_loss: 0.3715 - val_acc: 0.8317\n",
      "Epoch 2/3\n",
      "163/163 [==============================] - 327s 2s/step - loss: 0.3185 - acc: 0.8537 - val_loss: 0.3136 - val_acc: 0.7772\n",
      "Epoch 3/3\n",
      "163/163 [==============================] - 309s 2s/step - loss: 0.2637 - acc: 0.8832 - val_loss: 0.4258 - val_acc: 0.8221\n"
     ]
    }
   ],
   "source": [
    "model_history = model.fit_generator(train_gen, epochs=3,callbacks=[checkpoint],validation_data = test_gen)"
   ]
  },
  {
   "cell_type": "code",
   "execution_count": 54,
   "metadata": {},
   "outputs": [
    {
     "name": "stdout",
     "output_type": "stream",
     "text": [
      "The testing accuracy is : 82.21035599708557 %\n"
     ]
    }
   ],
   "source": [
    "#Predicting the accuracy of the model\n",
    "test_accu = model.evaluate_generator(test_gen, steps=624)\n",
    "print('The testing accuracy is :',test_accu[1]*100, '%')"
   ]
  },
  {
   "cell_type": "code",
   "execution_count": 55,
   "metadata": {},
   "outputs": [],
   "source": [
    "#Now loading the best model\n",
    "f_model = load_model('../Python/checkpoint-003.h5')"
   ]
  },
  {
   "cell_type": "code",
   "execution_count": 86,
   "metadata": {},
   "outputs": [
    {
     "name": "stdout",
     "output_type": "stream",
     "text": [
      "['person1946_bacteria_4874.jpeg', 'person1946_bacteria_4875.jpeg', 'person1947_bacteria_4876.jpeg', 'person1949_bacteria_4880.jpeg', 'person1950_bacteria_4881.jpeg', 'person1951_bacteria_4882.jpeg', 'person1952_bacteria_4883.jpeg', 'person1954_bacteria_4886.jpeg']\n"
     ]
    }
   ],
   "source": [
    "#Now we are loading the validation images\n",
    "predict_dir_path = \"../Python/chest_xray/val/PNEUMONIA/\"\n",
    "onlyfiles = [f for f in os.listdir(predict_dir_path) if os.path.isfile(os.path.join(predict_dir_path, f))]\n",
    "print(onlyfiles)"
   ]
  },
  {
   "cell_type": "code",
   "execution_count": 87,
   "metadata": {},
   "outputs": [
    {
     "name": "stdout",
     "output_type": "stream",
     "text": [
      "person1946_bacteria_4874.jpeg   pnemonia\n",
      "person1946_bacteria_4875.jpeg   pnemonia\n",
      "person1947_bacteria_4876.jpeg   pnemonia\n",
      "person1949_bacteria_4880.jpeg   pnemonia\n",
      "person1950_bacteria_4881.jpeg   pnemonia\n",
      "person1951_bacteria_4882.jpeg   pnemonia\n",
      "person1952_bacteria_4883.jpeg   pnemonia\n",
      "person1954_bacteria_4886.jpeg   pnemonia\n"
     ]
    }
   ],
   "source": [
    "for file in onlyfiles:\n",
    "    img_predict_pn = image.load_img(predict_dir_path+file,target_size=(224,224))\n",
    "    img_predict_normal_final = image.img_to_array(img_predict_pn)\n",
    "    img_predict_normal_final = np.expand_dims(img_predict_normal_final, axis =0)\n",
    "    rslt = f_model.predict(img_predict_normal_final)\n",
    "    rslt = rslt [0][0]\n",
    "    if rslt == 0:\n",
    "        prediction = \"normal\"\n",
    "    else:\n",
    "        prediction = \"pnemonia\"\n",
    "    \n",
    "    print(file +\"   \"+ prediction)\n"
   ]
  },
  {
   "cell_type": "code",
   "execution_count": null,
   "metadata": {},
   "outputs": [],
   "source": []
  }
 ],
 "metadata": {
  "kernelspec": {
   "display_name": "Python 3",
   "language": "python",
   "name": "python3"
  },
  "language_info": {
   "codemirror_mode": {
    "name": "ipython",
    "version": 3
   },
   "file_extension": ".py",
   "mimetype": "text/x-python",
   "name": "python",
   "nbconvert_exporter": "python",
   "pygments_lexer": "ipython3",
   "version": "3.7.4"
  }
 },
 "nbformat": 4,
 "nbformat_minor": 4
}
